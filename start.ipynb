{
 "cells": [
  {
   "cell_type": "markdown",
   "metadata": {},
   "source": [
    "# Recreation"
   ]
  },
  {
   "cell_type": "markdown",
   "metadata": {},
   "source": [
    "## Logistic Regression with 7 Features"
   ]
  },
  {
   "cell_type": "code",
   "execution_count": 1,
   "metadata": {},
   "outputs": [
    {
     "name": "stdout",
     "output_type": "stream",
     "text": [
      "<class 'pandas.core.frame.DataFrame'>\n",
      "RangeIndex: 7214 entries, 0 to 7213\n",
      "Data columns (total 53 columns):\n",
      " #   Column                   Non-Null Count  Dtype  \n",
      "---  ------                   --------------  -----  \n",
      " 0   id                       7214 non-null   int64  \n",
      " 1   name                     7214 non-null   object \n",
      " 2   first                    7214 non-null   object \n",
      " 3   last                     7214 non-null   object \n",
      " 4   compas_screening_date    7214 non-null   object \n",
      " 5   sex                      7214 non-null   object \n",
      " 6   dob                      7214 non-null   object \n",
      " 7   age                      7214 non-null   int64  \n",
      " 8   age_cat                  7214 non-null   object \n",
      " 9   race                     7214 non-null   object \n",
      " 10  juv_fel_count            7214 non-null   int64  \n",
      " 11  decile_score             7214 non-null   int64  \n",
      " 12  juv_misd_count           7214 non-null   int64  \n",
      " 13  juv_other_count          7214 non-null   int64  \n",
      " 14  priors_count             7214 non-null   int64  \n",
      " 15  days_b_screening_arrest  6907 non-null   float64\n",
      " 16  c_jail_in                6907 non-null   object \n",
      " 17  c_jail_out               6907 non-null   object \n",
      " 18  c_case_number            7192 non-null   object \n",
      " 19  c_offense_date           6055 non-null   object \n",
      " 20  c_arrest_date            1137 non-null   object \n",
      " 21  c_days_from_compas       7192 non-null   float64\n",
      " 22  c_charge_degree          7214 non-null   object \n",
      " 23  c_charge_desc            7185 non-null   object \n",
      " 24  is_recid                 7214 non-null   int64  \n",
      " 25  r_case_number            3471 non-null   object \n",
      " 26  r_charge_degree          3471 non-null   object \n",
      " 27  r_days_from_arrest       2316 non-null   float64\n",
      " 28  r_offense_date           3471 non-null   object \n",
      " 29  r_charge_desc            3413 non-null   object \n",
      " 30  r_jail_in                2316 non-null   object \n",
      " 31  r_jail_out               2316 non-null   object \n",
      " 32  violent_recid            0 non-null      float64\n",
      " 33  is_violent_recid         7214 non-null   int64  \n",
      " 34  vr_case_number           819 non-null    object \n",
      " 35  vr_charge_degree         819 non-null    object \n",
      " 36  vr_offense_date          819 non-null    object \n",
      " 37  vr_charge_desc           819 non-null    object \n",
      " 38  type_of_assessment       7214 non-null   object \n",
      " 39  decile_score.1           7214 non-null   int64  \n",
      " 40  score_text               7214 non-null   object \n",
      " 41  screening_date           7214 non-null   object \n",
      " 42  v_type_of_assessment     7214 non-null   object \n",
      " 43  v_decile_score           7214 non-null   int64  \n",
      " 44  v_score_text             7214 non-null   object \n",
      " 45  v_screening_date         7214 non-null   object \n",
      " 46  in_custody               6978 non-null   object \n",
      " 47  out_custody              6978 non-null   object \n",
      " 48  priors_count.1           7214 non-null   int64  \n",
      " 49  start                    7214 non-null   int64  \n",
      " 50  end                      7214 non-null   int64  \n",
      " 51  event                    7214 non-null   int64  \n",
      " 52  two_year_recid           7214 non-null   int64  \n",
      "dtypes: float64(4), int64(16), object(33)\n",
      "memory usage: 2.9+ MB\n"
     ]
    }
   ],
   "source": [
    "# loading data and observations\n",
    "\n",
    "import pandas as pd\n",
    "import numpy as np\n",
    "\n",
    "df_compas = pd.read_csv('compas-scores-two-years.csv')\n",
    "\n",
    "df_compas.info()"
   ]
  },
  {
   "cell_type": "code",
   "execution_count": 2,
   "metadata": {},
   "outputs": [
    {
     "data": {
      "text/html": [
       "<div>\n",
       "<style scoped>\n",
       "    .dataframe tbody tr th:only-of-type {\n",
       "        vertical-align: middle;\n",
       "    }\n",
       "\n",
       "    .dataframe tbody tr th {\n",
       "        vertical-align: top;\n",
       "    }\n",
       "\n",
       "    .dataframe thead th {\n",
       "        text-align: right;\n",
       "    }\n",
       "</style>\n",
       "<table border=\"1\" class=\"dataframe\">\n",
       "  <thead>\n",
       "    <tr style=\"text-align: right;\">\n",
       "      <th></th>\n",
       "      <th>id</th>\n",
       "      <th>name</th>\n",
       "      <th>first</th>\n",
       "      <th>last</th>\n",
       "      <th>compas_screening_date</th>\n",
       "      <th>sex</th>\n",
       "      <th>dob</th>\n",
       "      <th>age</th>\n",
       "      <th>age_cat</th>\n",
       "      <th>race</th>\n",
       "      <th>...</th>\n",
       "      <th>v_decile_score</th>\n",
       "      <th>v_score_text</th>\n",
       "      <th>v_screening_date</th>\n",
       "      <th>in_custody</th>\n",
       "      <th>out_custody</th>\n",
       "      <th>priors_count.1</th>\n",
       "      <th>start</th>\n",
       "      <th>end</th>\n",
       "      <th>event</th>\n",
       "      <th>two_year_recid</th>\n",
       "    </tr>\n",
       "  </thead>\n",
       "  <tbody>\n",
       "    <tr>\n",
       "      <th>0</th>\n",
       "      <td>1</td>\n",
       "      <td>miguel hernandez</td>\n",
       "      <td>miguel</td>\n",
       "      <td>hernandez</td>\n",
       "      <td>2013-08-14</td>\n",
       "      <td>Male</td>\n",
       "      <td>1947-04-18</td>\n",
       "      <td>69</td>\n",
       "      <td>Greater than 45</td>\n",
       "      <td>Other</td>\n",
       "      <td>...</td>\n",
       "      <td>1</td>\n",
       "      <td>Low</td>\n",
       "      <td>2013-08-14</td>\n",
       "      <td>2014-07-07</td>\n",
       "      <td>2014-07-14</td>\n",
       "      <td>0</td>\n",
       "      <td>0</td>\n",
       "      <td>327</td>\n",
       "      <td>0</td>\n",
       "      <td>0</td>\n",
       "    </tr>\n",
       "    <tr>\n",
       "      <th>1</th>\n",
       "      <td>3</td>\n",
       "      <td>kevon dixon</td>\n",
       "      <td>kevon</td>\n",
       "      <td>dixon</td>\n",
       "      <td>2013-01-27</td>\n",
       "      <td>Male</td>\n",
       "      <td>1982-01-22</td>\n",
       "      <td>34</td>\n",
       "      <td>25 - 45</td>\n",
       "      <td>African-American</td>\n",
       "      <td>...</td>\n",
       "      <td>1</td>\n",
       "      <td>Low</td>\n",
       "      <td>2013-01-27</td>\n",
       "      <td>2013-01-26</td>\n",
       "      <td>2013-02-05</td>\n",
       "      <td>0</td>\n",
       "      <td>9</td>\n",
       "      <td>159</td>\n",
       "      <td>1</td>\n",
       "      <td>1</td>\n",
       "    </tr>\n",
       "    <tr>\n",
       "      <th>2</th>\n",
       "      <td>4</td>\n",
       "      <td>ed philo</td>\n",
       "      <td>ed</td>\n",
       "      <td>philo</td>\n",
       "      <td>2013-04-14</td>\n",
       "      <td>Male</td>\n",
       "      <td>1991-05-14</td>\n",
       "      <td>24</td>\n",
       "      <td>Less than 25</td>\n",
       "      <td>African-American</td>\n",
       "      <td>...</td>\n",
       "      <td>3</td>\n",
       "      <td>Low</td>\n",
       "      <td>2013-04-14</td>\n",
       "      <td>2013-06-16</td>\n",
       "      <td>2013-06-16</td>\n",
       "      <td>4</td>\n",
       "      <td>0</td>\n",
       "      <td>63</td>\n",
       "      <td>0</td>\n",
       "      <td>1</td>\n",
       "    </tr>\n",
       "    <tr>\n",
       "      <th>3</th>\n",
       "      <td>5</td>\n",
       "      <td>marcu brown</td>\n",
       "      <td>marcu</td>\n",
       "      <td>brown</td>\n",
       "      <td>2013-01-13</td>\n",
       "      <td>Male</td>\n",
       "      <td>1993-01-21</td>\n",
       "      <td>23</td>\n",
       "      <td>Less than 25</td>\n",
       "      <td>African-American</td>\n",
       "      <td>...</td>\n",
       "      <td>6</td>\n",
       "      <td>Medium</td>\n",
       "      <td>2013-01-13</td>\n",
       "      <td>NaN</td>\n",
       "      <td>NaN</td>\n",
       "      <td>1</td>\n",
       "      <td>0</td>\n",
       "      <td>1174</td>\n",
       "      <td>0</td>\n",
       "      <td>0</td>\n",
       "    </tr>\n",
       "    <tr>\n",
       "      <th>4</th>\n",
       "      <td>6</td>\n",
       "      <td>bouthy pierrelouis</td>\n",
       "      <td>bouthy</td>\n",
       "      <td>pierrelouis</td>\n",
       "      <td>2013-03-26</td>\n",
       "      <td>Male</td>\n",
       "      <td>1973-01-22</td>\n",
       "      <td>43</td>\n",
       "      <td>25 - 45</td>\n",
       "      <td>Other</td>\n",
       "      <td>...</td>\n",
       "      <td>1</td>\n",
       "      <td>Low</td>\n",
       "      <td>2013-03-26</td>\n",
       "      <td>NaN</td>\n",
       "      <td>NaN</td>\n",
       "      <td>2</td>\n",
       "      <td>0</td>\n",
       "      <td>1102</td>\n",
       "      <td>0</td>\n",
       "      <td>0</td>\n",
       "    </tr>\n",
       "    <tr>\n",
       "      <th>5</th>\n",
       "      <td>7</td>\n",
       "      <td>marsha miles</td>\n",
       "      <td>marsha</td>\n",
       "      <td>miles</td>\n",
       "      <td>2013-11-30</td>\n",
       "      <td>Male</td>\n",
       "      <td>1971-08-22</td>\n",
       "      <td>44</td>\n",
       "      <td>25 - 45</td>\n",
       "      <td>Other</td>\n",
       "      <td>...</td>\n",
       "      <td>1</td>\n",
       "      <td>Low</td>\n",
       "      <td>2013-11-30</td>\n",
       "      <td>2013-11-30</td>\n",
       "      <td>2013-12-01</td>\n",
       "      <td>0</td>\n",
       "      <td>1</td>\n",
       "      <td>853</td>\n",
       "      <td>0</td>\n",
       "      <td>0</td>\n",
       "    </tr>\n",
       "  </tbody>\n",
       "</table>\n",
       "<p>6 rows × 53 columns</p>\n",
       "</div>"
      ],
      "text/plain": [
       "   id                name   first         last compas_screening_date   sex  \\\n",
       "0   1    miguel hernandez  miguel    hernandez            2013-08-14  Male   \n",
       "1   3         kevon dixon   kevon        dixon            2013-01-27  Male   \n",
       "2   4            ed philo      ed        philo            2013-04-14  Male   \n",
       "3   5         marcu brown   marcu        brown            2013-01-13  Male   \n",
       "4   6  bouthy pierrelouis  bouthy  pierrelouis            2013-03-26  Male   \n",
       "5   7        marsha miles  marsha        miles            2013-11-30  Male   \n",
       "\n",
       "          dob  age          age_cat              race  ...  v_decile_score  \\\n",
       "0  1947-04-18   69  Greater than 45             Other  ...               1   \n",
       "1  1982-01-22   34          25 - 45  African-American  ...               1   \n",
       "2  1991-05-14   24     Less than 25  African-American  ...               3   \n",
       "3  1993-01-21   23     Less than 25  African-American  ...               6   \n",
       "4  1973-01-22   43          25 - 45             Other  ...               1   \n",
       "5  1971-08-22   44          25 - 45             Other  ...               1   \n",
       "\n",
       "   v_score_text  v_screening_date  in_custody  out_custody  priors_count.1  \\\n",
       "0           Low        2013-08-14  2014-07-07   2014-07-14               0   \n",
       "1           Low        2013-01-27  2013-01-26   2013-02-05               0   \n",
       "2           Low        2013-04-14  2013-06-16   2013-06-16               4   \n",
       "3        Medium        2013-01-13         NaN          NaN               1   \n",
       "4           Low        2013-03-26         NaN          NaN               2   \n",
       "5           Low        2013-11-30  2013-11-30   2013-12-01               0   \n",
       "\n",
       "  start   end event two_year_recid  \n",
       "0     0   327     0              0  \n",
       "1     9   159     1              1  \n",
       "2     0    63     0              1  \n",
       "3     0  1174     0              0  \n",
       "4     0  1102     0              0  \n",
       "5     1   853     0              0  \n",
       "\n",
       "[6 rows x 53 columns]"
      ]
     },
     "execution_count": 2,
     "metadata": {},
     "output_type": "execute_result"
    }
   ],
   "source": [
    "df_compas.head(6)"
   ]
  },
  {
   "cell_type": "code",
   "execution_count": 3,
   "metadata": {},
   "outputs": [
    {
     "name": "stdout",
     "output_type": "stream",
     "text": [
      "Index(['id', 'name', 'first', 'last', 'compas_screening_date', 'sex', 'dob',\n",
      "       'age', 'age_cat', 'race', 'juv_fel_count', 'decile_score',\n",
      "       'juv_misd_count', 'juv_other_count', 'priors_count',\n",
      "       'days_b_screening_arrest', 'c_jail_in', 'c_jail_out', 'c_case_number',\n",
      "       'c_offense_date', 'c_arrest_date', 'c_days_from_compas',\n",
      "       'c_charge_degree', 'c_charge_desc', 'is_recid', 'r_case_number',\n",
      "       'r_charge_degree', 'r_days_from_arrest', 'r_offense_date',\n",
      "       'r_charge_desc', 'r_jail_in', 'r_jail_out', 'violent_recid',\n",
      "       'is_violent_recid', 'vr_case_number', 'vr_charge_degree',\n",
      "       'vr_offense_date', 'vr_charge_desc', 'type_of_assessment',\n",
      "       'decile_score.1', 'score_text', 'screening_date',\n",
      "       'v_type_of_assessment', 'v_decile_score', 'v_score_text',\n",
      "       'v_screening_date', 'in_custody', 'out_custody', 'priors_count.1',\n",
      "       'start', 'end', 'event', 'two_year_recid'],\n",
      "      dtype='object')\n"
     ]
    }
   ],
   "source": [
    "print(df_compas.columns)"
   ]
  },
  {
   "cell_type": "code",
   "execution_count": 4,
   "metadata": {},
   "outputs": [],
   "source": [
    "# removing unused columns\n",
    "\n",
    "df_LR7 = df_compas.drop(columns=['id', 'name', 'first', 'last', 'compas_screening_date', 'dob',\n",
    "       'age_cat', 'race', 'decile_score', 'juv_other_count', \n",
    "       'days_b_screening_arrest', 'c_jail_in', 'c_jail_out', 'c_case_number',\n",
    "       'c_offense_date', 'c_arrest_date', 'c_days_from_compas', 'is_recid', 'r_case_number',\n",
    "       'r_charge_degree', 'r_days_from_arrest', 'r_offense_date',\n",
    "       'r_charge_desc', 'r_jail_in', 'r_jail_out', 'violent_recid',\n",
    "       'is_violent_recid', 'vr_case_number', 'vr_charge_degree',\n",
    "       'vr_offense_date', 'vr_charge_desc', 'type_of_assessment',\n",
    "       'decile_score.1', 'score_text', 'screening_date',\n",
    "       'v_type_of_assessment', 'v_decile_score', 'v_score_text',\n",
    "       'v_screening_date', 'in_custody', 'out_custody', 'priors_count.1',\n",
    "       'start', 'end', 'event'])\n",
    "\n",
    "# transforming string values into numerical\n",
    "\n",
    "df_LR7['sex'] = df_LR7['sex'].astype('category')\n",
    "df_LR7['sex'] = df_LR7['sex'].cat.codes\n",
    "\n",
    "df_LR7['c_charge_degree'] = df_LR7['c_charge_degree'].astype('category')\n",
    "df_LR7['c_charge_degree'] = df_LR7['c_charge_degree'].cat.codes\n",
    "\n",
    "df_LR7['c_charge_desc'] = df_LR7['c_charge_desc'].astype('category')\n",
    "df_LR7['c_charge_desc'] = df_LR7['c_charge_desc'].cat.codes"
   ]
  },
  {
   "cell_type": "code",
   "execution_count": 5,
   "metadata": {},
   "outputs": [
    {
     "data": {
      "text/plain": [
       "sex                0\n",
       "age                0\n",
       "juv_fel_count      0\n",
       "juv_misd_count     0\n",
       "priors_count       0\n",
       "c_charge_degree    0\n",
       "c_charge_desc      0\n",
       "two_year_recid     0\n",
       "dtype: int64"
      ]
     },
     "execution_count": 5,
     "metadata": {},
     "output_type": "execute_result"
    }
   ],
   "source": [
    "# null values\n",
    "\n",
    "df_LR7.isnull().sum()"
   ]
  },
  {
   "cell_type": "code",
   "execution_count": 6,
   "metadata": {},
   "outputs": [],
   "source": [
    "# splitting of the dataset in features and the variable to predict\n",
    "\n",
    "X_overall_LR7 = df_LR7.drop(columns='two_year_recid')\n",
    "y_overall_LR7 = df_LR7['two_year_recid']"
   ]
  },
  {
   "cell_type": "markdown",
   "metadata": {},
   "source": [
    "#### Overall"
   ]
  },
  {
   "cell_type": "code",
   "execution_count": 20,
   "metadata": {},
   "outputs": [
    {
     "name": "stdout",
     "output_type": "stream",
     "text": [
      "67.58\n",
      "0.6\n",
      "0.02\n"
     ]
    }
   ],
   "source": [
    "from sklearn.linear_model import LogisticRegression\n",
    "from sklearn.model_selection import StratifiedKFold\n",
    "from sklearn.model_selection import cross_val_score\n",
    "\n",
    "lr = LogisticRegression(max_iter=400)\n",
    "\n",
    "kf = StratifiedKFold(n_splits=10, shuffle=True, random_state=28)\n",
    "\n",
    "# accuracy\n",
    "kfscore_accuracy_overall_LR7 = cross_val_score(lr, X_overall_LR7, y_overall_LR7, cv=kf, scoring='accuracy')\n",
    "accuracy_overall_LR7 = round(np.average(kfscore_accuracy_overall_LR7) * 100, 2)\n",
    "print(accuracy_overall_LR7)\n",
    "\n",
    "accuracy_overall_LR7_std = round(np.std(kfscore_accuracy_overall_LR7) * 100, 2)\n",
    "\n",
    "table_overall_LR7 = str(accuracy_overall_LR7) + ' [+/-' + str(accuracy_overall_LR7_std) + ']'\n",
    "\n",
    "# F1-score\n",
    "kfscore_f1_overall_LR7 = cross_val_score(lr, X_overall_LR7, y_overall_LR7, cv=kf, scoring='f1')\n",
    "F1_mean_LR7 = round(np.mean(kfscore_f1_overall_LR7), 2)\n",
    "print(F1_mean_LR7)\n",
    "\n",
    "F1_std_LR7 = round(np.std(kfscore_f1_overall_LR7), 2)\n",
    "print(F1_std_LR7)\n",
    "\n",
    "table_F1_LR7 = str(F1_mean_LR7) + ' [+/-' + str(F1_std_LR7) + ']'\n"
   ]
  },
  {
   "cell_type": "markdown",
   "metadata": {},
   "source": [
    "#### African-American people"
   ]
  },
  {
   "cell_type": "code",
   "execution_count": 8,
   "metadata": {},
   "outputs": [
    {
     "name": "stdout",
     "output_type": "stream",
     "text": [
      "66.88\n",
      "37.77\n",
      "28.72\n"
     ]
    }
   ],
   "source": [
    "from sklearn.model_selection import cross_val_predict\n",
    "from sklearn.metrics import confusion_matrix\n",
    "\n",
    "df_black_LR7 = df_compas.loc[df_compas['race'] == \"African-American\"]\n",
    "df_black_LR7 = df_black_LR7.drop(columns=['id', 'name', 'first', 'last', 'compas_screening_date', 'dob',\n",
    "       'age_cat', 'race', 'decile_score', 'juv_other_count', \n",
    "       'days_b_screening_arrest', 'c_jail_in', 'c_jail_out', 'c_case_number',\n",
    "       'c_offense_date', 'c_arrest_date', 'c_days_from_compas', 'is_recid', 'r_case_number',\n",
    "       'r_charge_degree', 'r_days_from_arrest', 'r_offense_date',\n",
    "       'r_charge_desc', 'r_jail_in', 'r_jail_out', 'violent_recid',\n",
    "       'is_violent_recid', 'vr_case_number', 'vr_charge_degree',\n",
    "       'vr_offense_date', 'vr_charge_desc', 'type_of_assessment',\n",
    "       'decile_score.1', 'score_text', 'screening_date',\n",
    "       'v_type_of_assessment', 'v_decile_score', 'v_score_text',\n",
    "       'v_screening_date', 'in_custody', 'out_custody', 'priors_count.1',\n",
    "       'start', 'end', 'event'])\n",
    "\n",
    "df_black_LR7['sex'] = df_black_LR7['sex'].astype('category')\n",
    "df_black_LR7['sex'] = df_black_LR7['sex'].cat.codes\n",
    "df_black_LR7['c_charge_degree'] = df_black_LR7['c_charge_degree'].astype('category')\n",
    "df_black_LR7['c_charge_degree'] = df_black_LR7['c_charge_degree'].cat.codes\n",
    "df_black_LR7['c_charge_desc'] = df_black_LR7['c_charge_desc'].astype('category')\n",
    "df_black_LR7['c_charge_desc'] = df_black_LR7['c_charge_desc'].cat.codes\n",
    "\n",
    "X_black_LR7 = df_black_LR7.drop(columns='two_year_recid')\n",
    "y_black_LR7 = df_black_LR7['two_year_recid']\n",
    "\n",
    "kfscore_accuracy_black_LR7 = cross_val_score(lr, X_black_LR7, y_black_LR7, cv=kf, scoring='accuracy')\n",
    "\n",
    "accuracy_black_LR7 = round(np.average(kfscore_accuracy_black_LR7) * 100, 2)\n",
    "print(accuracy_black_LR7) \n",
    "\n",
    "accuracy_black_LR7_std = round(np.std(kfscore_accuracy_black_LR7) * 100, 2)\n",
    "\n",
    "table_black_LR7 = str(accuracy_black_LR7) + ' [+/-' + str(accuracy_black_LR7_std) + ']'\n",
    "\n",
    "y_pred_black_LR7 = cross_val_predict(lr, X_black_LR7, y_black_LR7, cv=kf)\n",
    "conf_mat_black_LR7 = confusion_matrix(y_black_LR7, y_pred_black_LR7, normalize='true')\n",
    "\n",
    "FP_black_LR7 = round(conf_mat_black_LR7[0,1] * 100, 2)\n",
    "FN_black_LR7 = round(conf_mat_black_LR7[1,0] * 100, 2)\n",
    "\n",
    "print(FP_black_LR7)\n",
    "print(FN_black_LR7)"
   ]
  },
  {
   "cell_type": "markdown",
   "metadata": {},
   "source": [
    "#### Caucasian people"
   ]
  },
  {
   "cell_type": "code",
   "execution_count": 9,
   "metadata": {},
   "outputs": [
    {
     "name": "stdout",
     "output_type": "stream",
     "text": [
      "67.4\n",
      "11.29\n",
      "65.42\n"
     ]
    }
   ],
   "source": [
    "from sklearn.model_selection import cross_val_predict\n",
    "from sklearn.metrics import confusion_matrix\n",
    "\n",
    "df_white_LR7 = df_compas.loc[df_compas['race'] == 'Caucasian']\n",
    "df_white_LR7 = df_white_LR7.drop(columns=['id', 'name', 'first', 'last', 'compas_screening_date', 'dob',\n",
    "       'age_cat', 'race', 'decile_score', 'juv_other_count', \n",
    "       'days_b_screening_arrest', 'c_jail_in', 'c_jail_out', 'c_case_number',\n",
    "       'c_offense_date', 'c_arrest_date', 'c_days_from_compas', 'is_recid', 'r_case_number',\n",
    "       'r_charge_degree', 'r_days_from_arrest', 'r_offense_date',\n",
    "       'r_charge_desc', 'r_jail_in', 'r_jail_out', 'violent_recid',\n",
    "       'is_violent_recid', 'vr_case_number', 'vr_charge_degree',\n",
    "       'vr_offense_date', 'vr_charge_desc', 'type_of_assessment',\n",
    "       'decile_score.1', 'score_text', 'screening_date',\n",
    "       'v_type_of_assessment', 'v_decile_score', 'v_score_text',\n",
    "       'v_screening_date', 'in_custody', 'out_custody', 'priors_count.1',\n",
    "       'start', 'end', 'event'])\n",
    "\n",
    "df_white_LR7['sex'] = df_white_LR7['sex'].astype('category')\n",
    "df_white_LR7['sex'] = df_white_LR7['sex'].cat.codes\n",
    "df_white_LR7['c_charge_degree'] = df_white_LR7['c_charge_degree'].astype('category')\n",
    "df_white_LR7['c_charge_degree'] = df_white_LR7['c_charge_degree'].cat.codes\n",
    "df_white_LR7['c_charge_desc'] = df_white_LR7['c_charge_desc'].astype('category')\n",
    "df_white_LR7['c_charge_desc'] = df_white_LR7['c_charge_desc'].cat.codes\n",
    "\n",
    "X_white_LR7 = df_white_LR7.drop(columns='two_year_recid')\n",
    "y_white_LR7 = df_white_LR7['two_year_recid']\n",
    "\n",
    "kfscore_accuracy_white_LR7 = cross_val_score(lr, X_white_LR7, y_white_LR7, cv=kf, scoring='accuracy')\n",
    "\n",
    "accuracy_white_LR7 = round(np.average(kfscore_accuracy_white_LR7) * 100, 2)\n",
    "print(accuracy_white_LR7)\n",
    "\n",
    "accuracy_white_LR7_std = round(np.std(kfscore_accuracy_overall_LR7) * 100, 2)\n",
    "\n",
    "table_white_LR7 = str(accuracy_overall_LR7) + ' [+/-' + str(accuracy_overall_LR7_std) + ']'\n",
    "\n",
    "y_pred_white_LR7 = cross_val_predict(lr, X_white_LR7, y_white_LR7, cv=kf)\n",
    "conf_mat_white_LR7 = confusion_matrix(y_white_LR7, y_pred_white_LR7, normalize='true')\n",
    "\n",
    "FP_white_LR7 = round(conf_mat_white_LR7[0,1] * 100, 2)\n",
    "FN_white_LR7 = round(conf_mat_white_LR7[1,0] * 100, 2)\n",
    "\n",
    "print(FP_white_LR7)\n",
    "print(FN_white_LR7)"
   ]
  },
  {
   "cell_type": "markdown",
   "metadata": {},
   "source": [
    "## Logistic Regression with 2 Features"
   ]
  },
  {
   "cell_type": "code",
   "execution_count": 19,
   "metadata": {},
   "outputs": [],
   "source": [
    "# removing unused columns\n",
    "\n",
    "df_LR2 = df_LR7.drop(columns=['sex', 'c_charge_degree', 'c_charge_desc'])\n",
    "\n",
    "# remove all features except age and the total number of previous convictions\n",
    "\n",
    "df_LR2['total_number'] = df_LR2['juv_fel_count'] + df_LR2['juv_misd_count'] + df_LR2['priors_count']\n",
    "df_LR2 = df_LR2.drop(columns=['juv_fel_count', 'juv_misd_count', 'priors_count'])\n",
    "\n",
    "X_overall_LR2 = df_LR2.drop(columns='two_year_recid')\n",
    "y_overall_LR2 = df_LR2['two_year_recid']"
   ]
  },
  {
   "cell_type": "markdown",
   "metadata": {},
   "source": [
    "#### Overall"
   ]
  },
  {
   "cell_type": "code",
   "execution_count": 12,
   "metadata": {},
   "outputs": [
    {
     "name": "stdout",
     "output_type": "stream",
     "text": [
      "67.51\n",
      "0.58\n"
     ]
    }
   ],
   "source": [
    "#accuracy\n",
    "kfscore_accuracy_overall_LR2 = cross_val_score(lr, X_overall_LR2, y_overall_LR2, cv=kf, scoring='accuracy')\n",
    "accuracy_overall_LR2 = round(np.average(kfscore_accuracy_overall_LR2) * 100, 2)\n",
    "print(accuracy_overall_LR2)\n",
    "\n",
    "accuracy_overall_LR2_std = round(np.std(kfscore_accuracy_overall_LR2) * 100, 2)\n",
    "\n",
    "table_overall_LR2 = str(accuracy_overall_LR2) + ' [+/-' + str(accuracy_overall_LR2_std) + ']'\n",
    "\n",
    "# F1-score\n",
    "kfscore_f1_overall_LR2 = cross_val_score(lr, X_overall_LR2, y_overall_LR2, cv=kf, scoring='f1')\n",
    "F1_mean_LR2 = round(np.mean(kfscore_f1_overall_LR2), 2)\n",
    "print(F1_mean_LR2)\n",
    "\n",
    "F1_std_LR2 = round(np.std(kfscore_f1_overall_LR2), 2)\n",
    "table_F1_LR2 = str(F1_mean_LR2) + ' [+/-' + str(F1_std_LR2) + ']'"
   ]
  },
  {
   "cell_type": "markdown",
   "metadata": {},
   "source": [
    "#### African-American people"
   ]
  },
  {
   "cell_type": "code",
   "execution_count": 13,
   "metadata": {},
   "outputs": [
    {
     "name": "stdout",
     "output_type": "stream",
     "text": [
      "67.56\n",
      "35.71\n",
      "28.93\n"
     ]
    }
   ],
   "source": [
    "from sklearn.model_selection import cross_val_predict\n",
    "from sklearn.metrics import confusion_matrix\n",
    "\n",
    "df_black_LR2 = df_black_LR7.drop(columns=['sex', 'c_charge_degree', 'c_charge_desc'])\n",
    "\n",
    "df_black_LR2['total_number'] = df_black_LR2['juv_fel_count'] + df_black_LR2['juv_misd_count'] + df_black_LR2['priors_count']\n",
    "df_black_LR2 = df_black_LR2.drop(columns=['juv_fel_count', 'juv_misd_count', 'priors_count'])\n",
    "\n",
    "X_black_LR2 = df_black_LR2.drop(columns='two_year_recid')\n",
    "y_black_LR2 = df_black_LR2['two_year_recid']\n",
    "\n",
    "kfscore_accuracy_black_LR2 = cross_val_score(lr, X_black_LR2, y_black_LR2, cv=kf, scoring='accuracy')\n",
    "accuracy_black_LR2 = round(np.average(kfscore_accuracy_black_LR2) * 100, 2)\n",
    "print(accuracy_black_LR2)\n",
    "\n",
    "accuracy_black_LR2_std = round(np.std(kfscore_accuracy_black_LR2) * 100, 2)\n",
    "\n",
    "table_black_LR2 = str(accuracy_black_LR2) + ' [+/-' + str(accuracy_black_LR2_std) + ']'\n",
    "\n",
    "y_pred_black_LR2 = cross_val_predict(lr, X_black_LR2, y_black_LR2, cv=10)\n",
    "conf_mat_black_LR2 = confusion_matrix(y_black_LR2, y_pred_black_LR2, normalize='true')\n",
    "\n",
    "FP_black_LR2 = round(conf_mat_black_LR2[0,1] * 100, 2)\n",
    "FN_black_LR2 = round(conf_mat_black_LR2[1,0] * 100, 2)\n",
    "\n",
    "print(FP_black_LR2)\n",
    "print(FN_black_LR2)"
   ]
  },
  {
   "cell_type": "markdown",
   "metadata": {},
   "source": [
    "#### Caucasian people"
   ]
  },
  {
   "cell_type": "code",
   "execution_count": 14,
   "metadata": {},
   "outputs": [
    {
     "name": "stdout",
     "output_type": "stream",
     "text": [
      "67.97\n",
      "10.48\n",
      "65.32\n"
     ]
    }
   ],
   "source": [
    "df_white_LR2 = df_white_LR7.drop(columns=['sex', 'c_charge_degree', 'c_charge_desc'])\n",
    "\n",
    "df_white_LR2['total_number'] = df_white_LR2['juv_fel_count'] + df_white_LR2['juv_misd_count'] + df_white_LR2['priors_count']\n",
    "df_white_LR2 = df_white_LR2.drop(columns=['juv_fel_count', 'juv_misd_count', 'priors_count'])\n",
    "\n",
    "X_white_LR2 = df_white_LR2.drop(columns='two_year_recid')\n",
    "y_white_LR2 = df_white_LR2['two_year_recid']\n",
    "\n",
    "kfscore_accuracy_white_LR2 = cross_val_score(lr, X_white_LR2, y_white_LR2, cv=kf, scoring='accuracy')\n",
    "accuracy_white_LR2 = round(np.average(kfscore_accuracy_white_LR2) * 100, 2)\n",
    "print(accuracy_white_LR2)\n",
    "\n",
    "accuracy_white_LR2_std = round(np.std(kfscore_accuracy_overall_LR2) * 100, 2)\n",
    "\n",
    "table_white_LR2 = str(accuracy_white_LR2) + ' [+/-' + str(accuracy_white_LR2_std) + ']'\n",
    "\n",
    "y_pred_white_LR2 = cross_val_predict(lr, X_white_LR2, y_white_LR2, cv=10)\n",
    "conf_mat_white_LR2 = confusion_matrix(y_white_LR2, y_pred_white_LR2, normalize='true')\n",
    "\n",
    "FP_white_LR2 = round(conf_mat_white_LR2[0,1] * 100, 2)\n",
    "FN_white_LR2 = round(conf_mat_white_LR2[1,0] * 100, 2)\n",
    "\n",
    "print(FP_white_LR2)\n",
    "print(FN_white_LR2)"
   ]
  },
  {
   "cell_type": "markdown",
   "metadata": {},
   "source": [
    "## Nonlinear Support Vector Machine with radial basis kernel and 7 Features"
   ]
  },
  {
   "cell_type": "code",
   "execution_count": 15,
   "metadata": {},
   "outputs": [
    {
     "name": "stdout",
     "output_type": "stream",
     "text": [
      "62.84\n",
      "0.5\n",
      "61.2\n",
      "61.74\n",
      "37.77\n",
      "28.72\n",
      "11.29\n",
      "65.42\n"
     ]
    }
   ],
   "source": [
    "from sklearn.svm import SVC\n",
    "\n",
    "svm = SVC(kernel='rbf')\n",
    "\n",
    "# accuracy\n",
    "kfscore_accuracy_overall_SVM = cross_val_score(svm, X_overall_LR7, y_overall_LR7, cv=kf, scoring='accuracy')\n",
    "accuracy_overall_SVM = round(np.average(kfscore_accuracy_overall_SVM) * 100, 2)\n",
    "print(accuracy_overall_SVM)\n",
    "\n",
    "#standard deviation\n",
    "accuracy_overall_SVM_std = round(np.std(kfscore_accuracy_overall_SVM) * 100, 2)\n",
    "\n",
    "table_overall_SVM = str(accuracy_overall_SVM) + ' [+/-' + str(accuracy_overall_SVM_std) + ']'\n",
    "\n",
    "# F1-score\n",
    "kfscore_f1_overall_SVM = cross_val_score(svm, X_overall_LR7, y_overall_LR7, cv=kf, scoring='f1')\n",
    "F1_mean_SVM = round(np.mean(kfscore_f1_overall_SVM), 2)\n",
    "print(F1_mean_SVM)\n",
    "\n",
    "F1_std_SVM = round(np.std(kfscore_f1_overall_SVM), 2)\n",
    "table_F1_SVM = str(F1_mean_SVM) + ' [+/-' + str(F1_std_SVM) + ']'\n",
    "\n",
    "# accuracy black\n",
    "kfscore_accuracy_black_SVM = cross_val_score(svm, X_black_LR7, y_black_LR7, cv=kf, scoring='accuracy')\n",
    "\n",
    "accuracy_black_SVM = round(np.average(kfscore_accuracy_black_SVM) * 100, 2)\n",
    "print(accuracy_black_SVM)\n",
    "\n",
    "#standard deviation black\n",
    "accuracy_black_SVM_std = round(np.std(kfscore_accuracy_black_SVM) * 100, 2)\n",
    "\n",
    "table_black_SVM = str(accuracy_black_SVM) + ' [+/-' + str(accuracy_black_SVM_std) + ']'\n",
    "\n",
    "# accuracy white\n",
    "kfscore_accuracy_white_SVM = cross_val_score(svm, X_white_LR7, y_white_LR7, cv=kf, scoring='accuracy')\n",
    "\n",
    "accuracy_white_SVM = round(np.average(kfscore_accuracy_white_SVM) * 100, 2)\n",
    "print(accuracy_white_SVM)\n",
    "\n",
    "#standard deviation white\n",
    "accuracy_white_SVM_std = round(np.std(kfscore_accuracy_white_SVM) * 100, 2)\n",
    "\n",
    "table_white_SVM = str(accuracy_white_SVM) + ' [+/-' + str(accuracy_white_SVM_std) + ']'\n",
    "\n",
    "# false positive and negative black\n",
    "y_pred_black_SVM = cross_val_predict(svm, X_black_LR7, y_black_LR7, cv=kf)\n",
    "conf_mat_black_SVM = confusion_matrix(y_black_LR7, y_pred_black_LR7, normalize='true')\n",
    "\n",
    "FP_black_SVM = round(conf_mat_black_SVM[0,1] * 100, 2)\n",
    "FN_black_SVM = round(conf_mat_black_SVM[1,0] * 100, 2)\n",
    "\n",
    "print(FP_black_SVM)\n",
    "print(FN_black_SVM)\n",
    "\n",
    "# false positive and negative white\n",
    "y_pred_white_SVM = cross_val_predict(svm, X_white_LR7, y_white_LR7, cv=kf)\n",
    "conf_mat_white_SVM = confusion_matrix(y_white_LR7, y_pred_white_LR7, normalize='true')\n",
    "\n",
    "FP_white_SVM = round(conf_mat_white_SVM[0,1] * 100, 2)\n",
    "FN_white_SVM = round(conf_mat_white_SVM[1,0] * 100, 2)\n",
    "\n",
    "print(FP_white_SVM)\n",
    "print(FN_white_SVM)"
   ]
  },
  {
   "cell_type": "markdown",
   "metadata": {},
   "source": [
    "## Logistic Regression with 8 features (including race)"
   ]
  },
  {
   "cell_type": "markdown",
   "metadata": {},
   "source": [
    "#### Overall"
   ]
  },
  {
   "cell_type": "code",
   "execution_count": 22,
   "metadata": {},
   "outputs": [
    {
     "name": "stdout",
     "output_type": "stream",
     "text": [
      "67.74\n",
      "0.6\n",
      "0.02\n"
     ]
    }
   ],
   "source": [
    "df_LR8 = df_compas.drop(columns=['id', 'name', 'first', 'last', 'compas_screening_date', 'dob',\n",
    "       'age_cat', 'decile_score', 'juv_other_count', \n",
    "       'days_b_screening_arrest', 'c_jail_in', 'c_jail_out', 'c_case_number',\n",
    "       'c_offense_date', 'c_arrest_date', 'c_days_from_compas', 'is_recid', 'r_case_number',\n",
    "       'r_charge_degree', 'r_days_from_arrest', 'r_offense_date',\n",
    "       'r_charge_desc', 'r_jail_in', 'r_jail_out', 'violent_recid',\n",
    "       'is_violent_recid', 'vr_case_number', 'vr_charge_degree',\n",
    "       'vr_offense_date', 'vr_charge_desc', 'type_of_assessment',\n",
    "       'decile_score.1', 'score_text', 'screening_date',\n",
    "       'v_type_of_assessment', 'v_decile_score', 'v_score_text',\n",
    "       'v_screening_date', 'in_custody', 'out_custody', 'priors_count.1',\n",
    "       'start', 'end', 'event'])\n",
    "\n",
    "# transforming string values into numerical\n",
    "\n",
    "df_LR8['sex'] = df_LR8['sex'].astype('category')\n",
    "df_LR8['sex'] = df_LR8['sex'].cat.codes\n",
    "\n",
    "df_LR8['c_charge_degree'] = df_LR8['c_charge_degree'].astype('category')\n",
    "df_LR8['c_charge_degree'] = df_LR8['c_charge_degree'].cat.codes\n",
    "\n",
    "df_LR8['c_charge_desc'] = df_LR8['c_charge_desc'].astype('category')\n",
    "df_LR8['c_charge_desc'] = df_LR8['c_charge_desc'].cat.codes\n",
    "\n",
    "df_LR8['race'] = df_LR8['race'].astype('category')\n",
    "df_LR8['race'] = df_LR8['race'].cat.codes\n",
    "\n",
    "\n",
    "# splitting of the dataset in features and the variable to predict\n",
    "\n",
    "X_overall_LR8 = df_LR8.drop(columns='two_year_recid')\n",
    "y_overall_LR8 = df_LR8['two_year_recid']\n",
    "\n",
    "# accuracy\n",
    "kfscore_accuracy_overall_LR8 = cross_val_score(lr, X_overall_LR8, y_overall_LR8, cv=kf, scoring='accuracy')\n",
    "accuracy_overall_LR8 = round(np.average(kfscore_accuracy_overall_LR8) * 100, 2)\n",
    "print(accuracy_overall_LR8)\n",
    "\n",
    "accuracy_overall_LR8_std = round(np.std(kfscore_accuracy_overall_LR8) * 100, 2)\n",
    "\n",
    "table_overall_LR8 = str(accuracy_overall_LR8) + ' [+/-' + str(accuracy_overall_LR8_std) + ']'\n",
    "\n",
    "# F1-score\n",
    "kfscore_f1_overall_LR8 = cross_val_score(lr, X_overall_LR8, y_overall_LR8, cv=kf, scoring='f1')\n",
    "F1_mean_LR8 = round(np.mean(kfscore_f1_overall_LR8), 2)\n",
    "print(F1_mean_LR8)\n",
    "\n",
    "F1_std_LR8 = round(np.std(kfscore_f1_overall_LR8), 2)\n",
    "print(F1_std_LR8)\n",
    "\n",
    "table_F1_LR8 = str(F1_mean_LR8) + ' [+/-' + str(F1_std_LR8) + ']'\n"
   ]
  },
  {
   "cell_type": "markdown",
   "metadata": {},
   "source": [
    "#### African-American people"
   ]
  },
  {
   "cell_type": "code",
   "execution_count": 24,
   "metadata": {},
   "outputs": [
    {
     "name": "stdout",
     "output_type": "stream",
     "text": [
      "66.91\n",
      "37.77\n",
      "28.67\n"
     ]
    }
   ],
   "source": [
    "df_black_LR8 = df_compas.loc[df_compas['race'] == \"African-American\"]\n",
    "df_black_LR8 = df_black_LR8.drop(columns=['id', 'name', 'first', 'last', 'compas_screening_date', 'dob',\n",
    "       'age_cat', 'decile_score', 'juv_other_count', \n",
    "       'days_b_screening_arrest', 'c_jail_in', 'c_jail_out', 'c_case_number',\n",
    "       'c_offense_date', 'c_arrest_date', 'c_days_from_compas', 'is_recid', 'r_case_number',\n",
    "       'r_charge_degree', 'r_days_from_arrest', 'r_offense_date',\n",
    "       'r_charge_desc', 'r_jail_in', 'r_jail_out', 'violent_recid',\n",
    "       'is_violent_recid', 'vr_case_number', 'vr_charge_degree',\n",
    "       'vr_offense_date', 'vr_charge_desc', 'type_of_assessment',\n",
    "       'decile_score.1', 'score_text', 'screening_date',\n",
    "       'v_type_of_assessment', 'v_decile_score', 'v_score_text',\n",
    "       'v_screening_date', 'in_custody', 'out_custody', 'priors_count.1',\n",
    "       'start', 'end', 'event'])\n",
    "\n",
    "df_black_LR8['sex'] = df_black_LR8['sex'].astype('category')\n",
    "df_black_LR8['sex'] = df_black_LR8['sex'].cat.codes\n",
    "\n",
    "df_black_LR8['c_charge_degree'] = df_black_LR8['c_charge_degree'].astype('category')\n",
    "df_black_LR8['c_charge_degree'] = df_black_LR8['c_charge_degree'].cat.codes\n",
    "\n",
    "df_black_LR8['c_charge_desc'] = df_black_LR8['c_charge_desc'].astype('category')\n",
    "df_black_LR8['c_charge_desc'] = df_black_LR8['c_charge_desc'].cat.codes\n",
    "\n",
    "df_black_LR8['race'] = df_black_LR8['race'].astype('category')\n",
    "df_black_LR8['race'] = df_black_LR8['race'].cat.codes\n",
    "\n",
    "\n",
    "X_black_LR8 = df_black_LR8.drop(columns='two_year_recid')\n",
    "y_black_LR8 = df_black_LR8['two_year_recid']\n",
    "\n",
    "kfscore_accuracy_black_LR8 = cross_val_score(lr, X_black_LR8, y_black_LR8, cv=kf, scoring='accuracy')\n",
    "\n",
    "accuracy_black_LR8 = round(np.average(kfscore_accuracy_black_LR8) * 100, 2)\n",
    "print(accuracy_black_LR8) \n",
    "\n",
    "accuracy_black_LR8_std = round(np.std(kfscore_accuracy_black_LR8) * 100, 2)\n",
    "\n",
    "table_black_LR8 = str(accuracy_black_LR8) + ' [+/-' + str(accuracy_black_LR8_std) + ']'\n",
    "\n",
    "y_pred_black_LR8 = cross_val_predict(lr, X_black_LR8, y_black_LR8, cv=kf)\n",
    "conf_mat_black_LR8 = confusion_matrix(y_black_LR8, y_pred_black_LR8, normalize='true')\n",
    "\n",
    "FP_black_LR8 = round(conf_mat_black_LR8[0,1] * 100, 2)\n",
    "FN_black_LR8 = round(conf_mat_black_LR8[1,0] * 100, 2)\n",
    "\n",
    "print(FP_black_LR8)\n",
    "print(FN_black_LR8)"
   ]
  },
  {
   "cell_type": "markdown",
   "metadata": {},
   "source": [
    "#### Caucasian people"
   ]
  },
  {
   "cell_type": "code",
   "execution_count": 25,
   "metadata": {},
   "outputs": [
    {
     "name": "stdout",
     "output_type": "stream",
     "text": [
      "67.4\n",
      "11.29\n",
      "65.42\n"
     ]
    }
   ],
   "source": [
    "df_white_LR8 = df_compas.loc[df_compas['race'] == 'Caucasian']\n",
    "df_white_LR8 = df_white_LR8.drop(columns=['id', 'name', 'first', 'last', 'compas_screening_date', 'dob',\n",
    "       'age_cat', 'decile_score', 'juv_other_count', \n",
    "       'days_b_screening_arrest', 'c_jail_in', 'c_jail_out', 'c_case_number',\n",
    "       'c_offense_date', 'c_arrest_date', 'c_days_from_compas', 'is_recid', 'r_case_number',\n",
    "       'r_charge_degree', 'r_days_from_arrest', 'r_offense_date',\n",
    "       'r_charge_desc', 'r_jail_in', 'r_jail_out', 'violent_recid',\n",
    "       'is_violent_recid', 'vr_case_number', 'vr_charge_degree',\n",
    "       'vr_offense_date', 'vr_charge_desc', 'type_of_assessment',\n",
    "       'decile_score.1', 'score_text', 'screening_date',\n",
    "       'v_type_of_assessment', 'v_decile_score', 'v_score_text',\n",
    "       'v_screening_date', 'in_custody', 'out_custody', 'priors_count.1',\n",
    "       'start', 'end', 'event'])\n",
    "\n",
    "df_white_LR8['sex'] = df_white_LR8['sex'].astype('category')\n",
    "df_white_LR8['sex'] = df_white_LR8['sex'].cat.codes\n",
    "\n",
    "df_white_LR8['c_charge_degree'] = df_white_LR8['c_charge_degree'].astype('category')\n",
    "df_white_LR8['c_charge_degree'] = df_white_LR8['c_charge_degree'].cat.codes\n",
    "\n",
    "df_white_LR8['c_charge_desc'] = df_white_LR8['c_charge_desc'].astype('category')\n",
    "df_white_LR8['c_charge_desc'] = df_white_LR8['c_charge_desc'].cat.codes\n",
    "\n",
    "df_white_LR8['race'] = df_white_LR8['race'].astype('category')\n",
    "df_white_LR8['race'] = df_white_LR8['race'].cat.codes\n",
    "\n",
    "X_white_LR8 = df_white_LR8.drop(columns='two_year_recid')\n",
    "y_white_LR8 = df_white_LR8['two_year_recid']\n",
    "\n",
    "kfscore_accuracy_white_LR8 = cross_val_score(lr, X_white_LR8, y_white_LR8, cv=kf, scoring='accuracy')\n",
    "\n",
    "accuracy_white_LR8 = round(np.average(kfscore_accuracy_white_LR8) * 100, 2)\n",
    "print(accuracy_white_LR8)\n",
    "\n",
    "accuracy_white_LR8_std = round(np.std(kfscore_accuracy_overall_LR8) * 100, 2)\n",
    "\n",
    "table_white_LR8 = str(accuracy_overall_LR8) + ' [+/-' + str(accuracy_overall_LR8_std) + ']'\n",
    "\n",
    "y_pred_white_LR8 = cross_val_predict(lr, X_white_LR8, y_white_LR8, cv=kf)\n",
    "conf_mat_white_LR8 = confusion_matrix(y_white_LR8, y_pred_white_LR8, normalize='true')\n",
    "\n",
    "FP_white_LR8 = round(conf_mat_white_LR8[0,1] * 100, 2)\n",
    "FN_white_LR8 = round(conf_mat_white_LR8[1,0] * 100, 2)\n",
    "\n",
    "print(FP_white_LR8)\n",
    "print(FN_white_LR8)"
   ]
  },
  {
   "cell_type": "markdown",
   "metadata": {},
   "source": [
    "## Logistic Regression with all features"
   ]
  },
  {
   "cell_type": "markdown",
   "metadata": {},
   "source": [
    "#### Overall"
   ]
  },
  {
   "cell_type": "markdown",
   "metadata": {},
   "source": [
    "## Percentages within the data"
   ]
  },
  {
   "cell_type": "code",
   "execution_count": null,
   "metadata": {},
   "outputs": [
    {
     "name": "stdout",
     "output_type": "stream",
     "text": [
      "Percentage of black people: 51.23%\n",
      "Percentage of white people: 34.02%\n",
      "Percentage of female people: 19.34%\n",
      "Percentage of male people: 80.66%\n"
     ]
    }
   ],
   "source": [
    "# black people\n",
    "percentage_black = round(len(df_black_LR7) / len(df_compas) * 100, 2)\n",
    "print(\"Percentage of black people: \" + str(percentage_black) + \"%\")\n",
    "\n",
    "# white people\n",
    "percentage_white = round(len(df_white_LR7) / len(df_compas) * 100, 2)\n",
    "print(\"Percentage of white people: \" + str(percentage_white) + \"%\")\n",
    "\n",
    "# female\n",
    "df_female = df_compas.loc[df_compas['sex'] == \"Female\"]\n",
    "percentage_female = round(len(df_female) / len(df_compas) * 100, 2)\n",
    "print(\"Percentage of female people: \" + str(percentage_female) + \"%\")\n",
    "\n",
    "# male\n",
    "df_male = df_compas.loc[df_compas['sex'] == \"Male\"]\n",
    "percentage_male = round(len(df_male) / len(df_compas) * 100, 2)\n",
    "print(\"Percentage of male people: \" + str(percentage_male) + \"%\")\n"
   ]
  },
  {
   "cell_type": "markdown",
   "metadata": {},
   "source": [
    "## Mann-Whitney U rank test with LR7 and LR2"
   ]
  },
  {
   "cell_type": "code",
   "execution_count": null,
   "metadata": {},
   "outputs": [],
   "source": [
    "from scipy.stats import mannwhitneyu\n",
    "\n",
    "U,p = mannwhitneyu(kfscore_f1_overall_LR7, kfscore_f1_overall_LR2, use_continuity=True, alternative='two-sided', axis=0, method='auto', nan_policy='propagate', keepdims=False)\n",
    "\n",
    "print('U = ' + str(U))\n",
    "print('p = ' + str(p))\n",
    "# Da der p-Wert nicht weniger als 0,05 ist, kann die Nullhypothese nicht abgelehnt werden. \n",
    "# Also gibt es keinen Beweis, dass die F1-Werte in den Gruppen unterschiedlich sind."
   ]
  },
  {
   "cell_type": "markdown",
   "metadata": {},
   "source": [
    "## Recreation of Table 2 in Dressel and Farids (2018) paper"
   ]
  },
  {
   "cell_type": "code",
   "execution_count": 26,
   "metadata": {},
   "outputs": [
    {
     "name": "stdout",
     "output_type": "stream",
     "text": [
      "╒════════════════════════╤═════════════════╤═════════════════╤═════════════════╤══════════╤═════════════════╕\n",
      "│ Metric                 │ LR7             │ LR2             │ NL-SVM          │ COMPAS   │ LR8             │\n",
      "╞════════════════════════╪═════════════════╪═════════════════╪═════════════════╪══════════╪═════════════════╡\n",
      "│ Accuracy (overall)     │ 67.58 [+/-1.62] │ 67.51 [+/-2.14] │ 62.84 [+/-1.4]  │ 65.4     │ 67.74 [+/-1.88] │\n",
      "├────────────────────────┼─────────────────┼─────────────────┼─────────────────┼──────────┼─────────────────┤\n",
      "│ Accuracy (black)       │ 66.88 [+/-1.81] │ 67.56 [+/-1.62] │ 62.84 [+/-1.4]  │ 63.8     │ 66.91 [+/-1.87] │\n",
      "├────────────────────────┼─────────────────┼─────────────────┼─────────────────┼──────────┼─────────────────┤\n",
      "│ Accuracy (white)       │ 67.58 [+/-1.62] │ 67.97 [+/-2.14] │ 61.74 [+/-0.95] │ 67.0     │ 67.74 [+/-1.88] │\n",
      "├────────────────────────┼─────────────────┼─────────────────┼─────────────────┼──────────┼─────────────────┤\n",
      "│ False Positive (black) │ 37.77           │ 35.71           │ 37.77           │ 44.8     │ 37.77           │\n",
      "├────────────────────────┼─────────────────┼─────────────────┼─────────────────┼──────────┼─────────────────┤\n",
      "│ False Positive (white) │ 11.29           │ 10.48           │ 11.29           │ 23.5     │ 11.29           │\n",
      "├────────────────────────┼─────────────────┼─────────────────┼─────────────────┼──────────┼─────────────────┤\n",
      "│ False Negative (black) │ 28.72           │ 28.93           │ 28.72           │ 28.0     │ 28.67           │\n",
      "├────────────────────────┼─────────────────┼─────────────────┼─────────────────┼──────────┼─────────────────┤\n",
      "│ False Negative (white) │ 65.42           │ 65.32           │ 65.42           │ 47.7     │ 65.42           │\n",
      "├────────────────────────┼─────────────────┼─────────────────┼─────────────────┼──────────┼─────────────────┤\n",
      "│ Mean (F1)              │ 0.6 [+/-0.02]   │ 0.58 [+/-0.03]  │ 0.5 [+/-0.02]   │ -        │ 0.6 [+/-0.02]   │\n",
      "╘════════════════════════╧═════════════════╧═════════════════╧═════════════════╧══════════╧═════════════════╛\n"
     ]
    }
   ],
   "source": [
    "from tabulate import tabulate\n",
    "\n",
    "header = [\"Metric\", \"LR7\", \"LR2\", \"NL-SVM\", \"COMPAS\", \"LR8\"]\n",
    "\n",
    "data = [\n",
    "    [\"Accuracy (overall)\", table_overall_LR7, table_overall_LR2, table_overall_SVM, \"65.4\", table_overall_LR8],\n",
    "    [\"Accuracy (black)\", table_black_LR7, table_black_LR2, table_overall_SVM, \"63.8\", table_black_LR8],\n",
    "    [\"Accuracy (white)\", table_white_LR7, table_white_LR2, table_white_SVM, \"67.0\", table_white_LR8],\n",
    "    [\"False Positive (black)\", FP_black_LR7, FP_black_LR2, FP_black_SVM, \"44.8\", FP_black_LR8],\n",
    "    [\"False Positive (white)\", FP_white_LR7, FP_white_LR2, FP_white_SVM, \"23.5\", FP_white_LR8],\n",
    "    [\"False Negative (black)\", FN_black_LR7, FN_black_LR2, FN_black_SVM, \"28.0\", FN_black_LR8],\n",
    "    [\"False Negative (white)\", FN_white_LR7, FN_white_LR2, FN_white_SVM, \"47.7\", FN_white_LR8],\n",
    "    [\"Mean (F1)\", table_F1_LR7, table_F1_LR2, table_F1_SVM, \"-\", table_F1_LR8 ],\n",
    "]\n",
    "\n",
    "print(tabulate(data, headers=header, tablefmt=\"fancy_grid\", floatfmt=\".2f\"))"
   ]
  },
  {
   "cell_type": "markdown",
   "metadata": {},
   "source": [
    "## Bias-Mitigation to improve Fairness"
   ]
  },
  {
   "cell_type": "markdown",
   "metadata": {},
   "source": [
    "#### Gradient Boosting with XGBoost and Hyperparameter Tuning"
   ]
  },
  {
   "cell_type": "code",
   "execution_count": 26,
   "metadata": {},
   "outputs": [
    {
     "name": "stdout",
     "output_type": "stream",
     "text": [
      "{'subsample': 0.8, 'n_estimators': 100, 'min_child_weight': 10, 'max_depth': 5, 'learning_rate': 0.1, 'gamma': 5, 'colsample_bytree': 1.0}\n",
      "0.6870015483266162\n"
     ]
    }
   ],
   "source": [
    "import xgboost as xgb\n",
    "from sklearn.model_selection import train_test_split\n",
    "from xgboost import XGBClassifier\n",
    "from sklearn.model_selection import RandomizedSearchCV, GridSearchCV\n",
    "from xgboost import cv\n",
    "\n",
    "param_grid ={\n",
    "    'max_depth': [3, 5, 7],\n",
    "    'learning_rate': [0.1, 0.01, 0.001],\n",
    "    'subsample': [0.5, 0.7, 1],\n",
    "    'n_estimators': [100, 200, 300],\n",
    "    'min_child_weight': [1, 5, 10],\n",
    "    'gamma': [0.5, 1, 1.5, 2, 5],\n",
    "    'subsample': [0.6, 0.8, 1.0],\n",
    "    'colsample_bytree': [0.6, 0.8, 1.0],\n",
    "}\n",
    "\n",
    "xgb_model = xgb.XGBClassifier()\n",
    "\n",
    "random_search = RandomizedSearchCV(xgb_model, param_distributions=param_grid, scoring='f1', cv=kf)\n",
    "\n",
    "random_search.fit(X_overall_LR7, y_overall_LR7)\n",
    "\n",
    "print(random_search.best_params_)\n",
    "print(random_search.best_score_)"
   ]
  },
  {
   "cell_type": "markdown",
   "metadata": {},
   "source": [
    "Quellen:\n",
    "\n",
    "RegenerativeToday. (18.05.2022). Step by Step Tutorial on Logistic Regression in Python | sklearn |Jupyter Notebook [Video]. Youtube. https://www.youtube.com/watch?v=bSXIbCZNBw0\n",
    "\n",
    "Dressel, A. & Farid, H. (2018). The accuracy, fairness, and limits of predicting recidivism. Science Advances, 4 (1), eaao5580. https://doi.org/10.1126/sciadv.aao5580\n",
    "\n",
    "Ryan Nolan Data. (28.08.2023). A Comprehensive Guide to Cross-Validation with Scikit-Learn and Python [Video]. Youtube. https://www.youtube.com/watch?v=glLNo1ZnmPA&list=PLcQVY5V2UY4LNmObS0gqNVyNdVfXnHwu8&index=14\n",
    "\n",
    "Scikit-Learn. (n.d.). User Guide. https://scikit-learn.org/stable/user_guide.html\n",
    "\n",
    "Scikit-Learn. (n.d.). API Reference. https://scikit-learn.org/stable/api/index.html\n",
    "\n",
    "Geeks for Geeks. (2022). How to make a table in Python?. https://www.geeksforgeeks.org/how-to-make-a-table-in-python/\n",
    "\n",
    "Stackoverflow. (2016). Python's tabulate number of decimal. https://stackoverflow.com/questions/37079957/pythons-tabulate-number-of-decimal"
   ]
  }
 ],
 "metadata": {
  "kernelspec": {
   "display_name": "Python 3",
   "language": "python",
   "name": "python3"
  },
  "language_info": {
   "codemirror_mode": {
    "name": "ipython",
    "version": 3
   },
   "file_extension": ".py",
   "mimetype": "text/x-python",
   "name": "python",
   "nbconvert_exporter": "python",
   "pygments_lexer": "ipython3",
   "version": "3.12.0"
  }
 },
 "nbformat": 4,
 "nbformat_minor": 2
}
